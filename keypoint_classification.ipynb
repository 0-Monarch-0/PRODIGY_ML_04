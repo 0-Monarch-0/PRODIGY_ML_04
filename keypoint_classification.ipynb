{
 "cells": [
  {
   "cell_type": "code",
   "execution_count": 45,
   "metadata": {},
   "outputs": [],
   "source": [
    "import csv\n",
    "\n",
    "import numpy as np\n",
    "import tensorflow as tf\n",
    "from sklearn.model_selection import train_test_split\n",
    "\n",
    "RANDOM_SEED = 42"
   ]
  },
  {
   "cell_type": "markdown",
   "metadata": {},
   "source": [
    "# 各パス指定"
   ]
  },
  {
   "cell_type": "code",
   "execution_count": 46,
   "metadata": {},
   "outputs": [],
   "source": [
    "dataset = 'model/keypoint_classifier/keypoint.csv'\n",
    "model_save_path = 'model/keypoint_classifier/keypoint_classifier.hdf5'"
   ]
  },
  {
   "cell_type": "markdown",
   "metadata": {},
   "source": [
    "# 分類数設定"
   ]
  },
  {
   "cell_type": "code",
   "execution_count": 47,
   "metadata": {},
   "outputs": [],
   "source": [
    "NUM_CLASSES = 5"
   ]
  },
  {
   "cell_type": "markdown",
   "metadata": {},
   "source": [
    "# 学習データ読み込み"
   ]
  },
  {
   "cell_type": "code",
   "execution_count": 48,
   "metadata": {},
   "outputs": [],
   "source": [
    "X_dataset = np.loadtxt(dataset, delimiter=',', dtype='float32', usecols=list(range(1, (21 * 2) + 1)))"
   ]
  },
  {
   "cell_type": "code",
   "execution_count": 49,
   "metadata": {},
   "outputs": [],
   "source": [
    "y_dataset = np.loadtxt(dataset, delimiter=',', dtype='int32', usecols=(0))"
   ]
  },
  {
   "cell_type": "code",
   "execution_count": 50,
   "metadata": {},
   "outputs": [],
   "source": [
    "X_train, X_test, y_train, y_test = train_test_split(X_dataset, y_dataset, train_size=0.75, random_state=RANDOM_SEED)"
   ]
  },
  {
   "cell_type": "markdown",
   "metadata": {},
   "source": [
    "# モデル構築"
   ]
  },
  {
   "cell_type": "code",
   "execution_count": 51,
   "metadata": {},
   "outputs": [],
   "source": [
    "model = tf.keras.models.Sequential([\n",
    "    tf.keras.layers.Input((21 * 2, )),\n",
    "    tf.keras.layers.Dropout(0.2),\n",
    "    tf.keras.layers.Dense(20, activation='relu'),\n",
    "    tf.keras.layers.Dropout(0.4),\n",
    "    tf.keras.layers.Dense(10, activation='relu'),\n",
    "    tf.keras.layers.Dense(NUM_CLASSES, activation='softmax')\n",
    "])"
   ]
  },
  {
   "cell_type": "code",
   "execution_count": 52,
   "metadata": {},
   "outputs": [
    {
     "name": "stdout",
     "output_type": "stream",
     "text": [
      "Model: \"sequential_2\"\n",
      "_________________________________________________________________\n",
      " Layer (type)                Output Shape              Param #   \n",
      "=================================================================\n",
      " dropout_4 (Dropout)         (None, 42)                0         \n",
      "                                                                 \n",
      " dense_6 (Dense)             (None, 20)                860       \n",
      "                                                                 \n",
      " dropout_5 (Dropout)         (None, 20)                0         \n",
      "                                                                 \n",
      " dense_7 (Dense)             (None, 10)                210       \n",
      "                                                                 \n",
      " dense_8 (Dense)             (None, 5)                 55        \n",
      "                                                                 \n",
      "=================================================================\n",
      "Total params: 1125 (4.39 KB)\n",
      "Trainable params: 1125 (4.39 KB)\n",
      "Non-trainable params: 0 (0.00 Byte)\n",
      "_________________________________________________________________\n"
     ]
    }
   ],
   "source": [
    "model.summary()  # tf.keras.utils.plot_model(model, show_shapes=True)"
   ]
  },
  {
   "cell_type": "code",
   "execution_count": 53,
   "metadata": {},
   "outputs": [],
   "source": [
    "# モデルチェックポイントのコールバック\n",
    "cp_callback = tf.keras.callbacks.ModelCheckpoint(\n",
    "    model_save_path, verbose=1, save_weights_only=False)\n",
    "# 早期打ち切り用コールバック\n",
    "es_callback = tf.keras.callbacks.EarlyStopping(patience=20, verbose=1)"
   ]
  },
  {
   "cell_type": "code",
   "execution_count": 54,
   "metadata": {},
   "outputs": [],
   "source": [
    "# モデルコンパイル\n",
    "model.compile(\n",
    "    optimizer='adam',\n",
    "    loss='sparse_categorical_crossentropy',\n",
    "    metrics=['accuracy']\n",
    ")"
   ]
  },
  {
   "cell_type": "markdown",
   "metadata": {},
   "source": [
    "# モデル訓練"
   ]
  },
  {
   "cell_type": "code",
   "execution_count": 55,
   "metadata": {
    "scrolled": true
   },
   "outputs": [
    {
     "name": "stdout",
     "output_type": "stream",
     "text": [
      "Epoch 1/1000\n",
      "20/31 [==================>...........] - ETA: 0s - loss: 1.6981 - accuracy: 0.1473 \n",
      "Epoch 1: saving model to model/keypoint_classifier\\keypoint_classifier.hdf5\n",
      "31/31 [==============================] - 1s 14ms/step - loss: 1.6741 - accuracy: 0.1625 - val_loss: 1.5699 - val_accuracy: 0.2546\n",
      "Epoch 2/1000\n",
      "17/31 [===============>..............] - ETA: 0s - loss: 1.5822 - accuracy: 0.2381"
     ]
    },
    {
     "name": "stderr",
     "output_type": "stream",
     "text": [
      "C:\\Users\\chino\\AppData\\Local\\Packages\\PythonSoftwareFoundation.Python.3.11_qbz5n2kfra8p0\\LocalCache\\local-packages\\Python311\\site-packages\\keras\\src\\engine\\training.py:3103: UserWarning: You are saving your model as an HDF5 file via `model.save()`. This file format is considered legacy. We recommend using instead the native Keras format, e.g. `model.save('my_model.keras')`.\n",
      "  saving_api.save_model(\n"
     ]
    },
    {
     "name": "stdout",
     "output_type": "stream",
     "text": [
      "\n",
      "Epoch 2: saving model to model/keypoint_classifier\\keypoint_classifier.hdf5\n",
      "31/31 [==============================] - 0s 8ms/step - loss: 1.5650 - accuracy: 0.2591 - val_loss: 1.4894 - val_accuracy: 0.3693\n",
      "Epoch 3/1000\n",
      "24/31 [======================>.......] - ETA: 0s - loss: 1.5054 - accuracy: 0.3226\n",
      "Epoch 3: saving model to model/keypoint_classifier\\keypoint_classifier.hdf5\n",
      "31/31 [==============================] - 0s 10ms/step - loss: 1.4949 - accuracy: 0.3282 - val_loss: 1.4177 - val_accuracy: 0.4251\n",
      "Epoch 4/1000\n",
      "20/31 [==================>...........] - ETA: 0s - loss: 1.4522 - accuracy: 0.3617\n",
      "Epoch 4: saving model to model/keypoint_classifier\\keypoint_classifier.hdf5\n",
      "31/31 [==============================] - 0s 6ms/step - loss: 1.4427 - accuracy: 0.3634 - val_loss: 1.3460 - val_accuracy: 0.4572\n",
      "Epoch 5/1000\n",
      "17/31 [===============>..............] - ETA: 0s - loss: 1.3976 - accuracy: 0.3892\n",
      "Epoch 5: saving model to model/keypoint_classifier\\keypoint_classifier.hdf5\n",
      "31/31 [==============================] - 0s 7ms/step - loss: 1.3850 - accuracy: 0.3938 - val_loss: 1.2737 - val_accuracy: 0.4962\n",
      "Epoch 6/1000\n",
      "27/31 [=========================>....] - ETA: 0s - loss: 1.3259 - accuracy: 0.4323\n",
      "Epoch 6: saving model to model/keypoint_classifier\\keypoint_classifier.hdf5\n",
      "31/31 [==============================] - 1s 18ms/step - loss: 1.3287 - accuracy: 0.4290 - val_loss: 1.2069 - val_accuracy: 0.5826\n",
      "Epoch 7/1000\n",
      "24/31 [======================>.......] - ETA: 0s - loss: 1.2921 - accuracy: 0.4395\n",
      "Epoch 7: saving model to model/keypoint_classifier\\keypoint_classifier.hdf5\n",
      "31/31 [==============================] - 1s 17ms/step - loss: 1.2890 - accuracy: 0.4430 - val_loss: 1.1437 - val_accuracy: 0.6131\n",
      "Epoch 8/1000\n",
      "26/31 [========================>.....] - ETA: 0s - loss: 1.2416 - accuracy: 0.4745\n",
      "Epoch 8: saving model to model/keypoint_classifier\\keypoint_classifier.hdf5\n",
      "31/31 [==============================] - 0s 10ms/step - loss: 1.2367 - accuracy: 0.4762 - val_loss: 1.0768 - val_accuracy: 0.6575\n",
      "Epoch 9/1000\n",
      "17/31 [===============>..............] - ETA: 0s - loss: 1.2180 - accuracy: 0.4692\n",
      "Epoch 9: saving model to model/keypoint_classifier\\keypoint_classifier.hdf5\n",
      "31/31 [==============================] - 0s 6ms/step - loss: 1.2013 - accuracy: 0.4856 - val_loss: 1.0226 - val_accuracy: 0.6896\n",
      "Epoch 10/1000\n",
      "21/31 [===================>..........] - ETA: 0s - loss: 1.1566 - accuracy: 0.5164\n",
      "Epoch 10: saving model to model/keypoint_classifier\\keypoint_classifier.hdf5\n",
      "31/31 [==============================] - 0s 6ms/step - loss: 1.1592 - accuracy: 0.5124 - val_loss: 0.9633 - val_accuracy: 0.7194\n",
      "Epoch 11/1000\n",
      "22/31 [====================>.........] - ETA: 0s - loss: 1.1313 - accuracy: 0.5270\n",
      "Epoch 11: saving model to model/keypoint_classifier\\keypoint_classifier.hdf5\n",
      "31/31 [==============================] - 0s 6ms/step - loss: 1.1231 - accuracy: 0.5279 - val_loss: 0.9202 - val_accuracy: 0.7607\n",
      "Epoch 12/1000\n",
      "23/31 [=====================>........] - ETA: 0s - loss: 1.0868 - accuracy: 0.5391\n",
      "Epoch 12: saving model to model/keypoint_classifier\\keypoint_classifier.hdf5\n",
      "31/31 [==============================] - 0s 10ms/step - loss: 1.0918 - accuracy: 0.5363 - val_loss: 0.8688 - val_accuracy: 0.7829\n",
      "Epoch 13/1000\n",
      "18/31 [================>.............] - ETA: 0s - loss: 1.0627 - accuracy: 0.5543\n",
      "Epoch 13: saving model to model/keypoint_classifier\\keypoint_classifier.hdf5\n",
      "31/31 [==============================] - 0s 6ms/step - loss: 1.0644 - accuracy: 0.5476 - val_loss: 0.8313 - val_accuracy: 0.7890\n",
      "Epoch 14/1000\n",
      "22/31 [====================>.........] - ETA: 0s - loss: 1.0462 - accuracy: 0.5629\n",
      "Epoch 14: saving model to model/keypoint_classifier\\keypoint_classifier.hdf5\n",
      "31/31 [==============================] - 0s 6ms/step - loss: 1.0448 - accuracy: 0.5682 - val_loss: 0.7898 - val_accuracy: 0.8112\n",
      "Epoch 15/1000\n",
      "23/31 [=====================>........] - ETA: 0s - loss: 0.9915 - accuracy: 0.6036\n",
      "Epoch 15: saving model to model/keypoint_classifier\\keypoint_classifier.hdf5\n",
      "31/31 [==============================] - 0s 5ms/step - loss: 1.0006 - accuracy: 0.5965 - val_loss: 0.7581 - val_accuracy: 0.8242\n",
      "Epoch 16/1000\n",
      "22/31 [====================>.........] - ETA: 0s - loss: 0.9979 - accuracy: 0.5952\n",
      "Epoch 16: saving model to model/keypoint_classifier\\keypoint_classifier.hdf5\n",
      "31/31 [==============================] - 0s 5ms/step - loss: 0.9931 - accuracy: 0.5912 - val_loss: 0.7313 - val_accuracy: 0.8303\n",
      "Epoch 17/1000\n",
      "21/31 [===================>..........] - ETA: 0s - loss: 0.9767 - accuracy: 0.5956\n",
      "Epoch 17: saving model to model/keypoint_classifier\\keypoint_classifier.hdf5\n",
      "31/31 [==============================] - 0s 5ms/step - loss: 0.9710 - accuracy: 0.5996 - val_loss: 0.7069 - val_accuracy: 0.8318\n",
      "Epoch 18/1000\n",
      "25/31 [=======================>......] - ETA: 0s - loss: 0.9422 - accuracy: 0.6162\n",
      "Epoch 18: saving model to model/keypoint_classifier\\keypoint_classifier.hdf5\n",
      "31/31 [==============================] - 0s 10ms/step - loss: 0.9441 - accuracy: 0.6169 - val_loss: 0.6907 - val_accuracy: 0.8341\n",
      "Epoch 19/1000\n",
      "23/31 [=====================>........] - ETA: 0s - loss: 0.9367 - accuracy: 0.6281\n",
      "Epoch 19: saving model to model/keypoint_classifier\\keypoint_classifier.hdf5\n",
      "31/31 [==============================] - 0s 6ms/step - loss: 0.9413 - accuracy: 0.6299 - val_loss: 0.6518 - val_accuracy: 0.8410\n",
      "Epoch 20/1000\n",
      "22/31 [====================>.........] - ETA: 0s - loss: 0.9240 - accuracy: 0.6232\n",
      "Epoch 20: saving model to model/keypoint_classifier\\keypoint_classifier.hdf5\n",
      "31/31 [==============================] - 0s 5ms/step - loss: 0.9274 - accuracy: 0.6220 - val_loss: 0.6452 - val_accuracy: 0.8479\n",
      "Epoch 21/1000\n",
      "23/31 [=====================>........] - ETA: 0s - loss: 0.9283 - accuracy: 0.6257\n",
      "Epoch 21: saving model to model/keypoint_classifier\\keypoint_classifier.hdf5\n",
      "31/31 [==============================] - 0s 6ms/step - loss: 0.9098 - accuracy: 0.6391 - val_loss: 0.6254 - val_accuracy: 0.8502\n",
      "Epoch 22/1000\n",
      "23/31 [=====================>........] - ETA: 0s - loss: 0.8818 - accuracy: 0.6447\n",
      "Epoch 22: saving model to model/keypoint_classifier\\keypoint_classifier.hdf5\n",
      "31/31 [==============================] - 0s 6ms/step - loss: 0.8837 - accuracy: 0.6429 - val_loss: 0.6005 - val_accuracy: 0.8471\n",
      "Epoch 23/1000\n",
      "27/31 [=========================>....] - ETA: 0s - loss: 0.8801 - accuracy: 0.6418\n",
      "Epoch 23: saving model to model/keypoint_classifier\\keypoint_classifier.hdf5\n",
      "31/31 [==============================] - 0s 9ms/step - loss: 0.8809 - accuracy: 0.6389 - val_loss: 0.5858 - val_accuracy: 0.8494\n",
      "Epoch 24/1000\n",
      "23/31 [=====================>........] - ETA: 0s - loss: 0.8823 - accuracy: 0.6461\n",
      "Epoch 24: saving model to model/keypoint_classifier\\keypoint_classifier.hdf5\n",
      "31/31 [==============================] - 0s 6ms/step - loss: 0.8711 - accuracy: 0.6493 - val_loss: 0.5722 - val_accuracy: 0.8639\n",
      "Epoch 25/1000\n",
      "23/31 [=====================>........] - ETA: 0s - loss: 0.8451 - accuracy: 0.6607\n",
      "Epoch 25: saving model to model/keypoint_classifier\\keypoint_classifier.hdf5\n",
      "31/31 [==============================] - 0s 5ms/step - loss: 0.8429 - accuracy: 0.6636 - val_loss: 0.5538 - val_accuracy: 0.8586\n",
      "Epoch 26/1000\n",
      "23/31 [=====================>........] - ETA: 0s - loss: 0.8251 - accuracy: 0.6780\n",
      "Epoch 26: saving model to model/keypoint_classifier\\keypoint_classifier.hdf5\n",
      "31/31 [==============================] - 0s 5ms/step - loss: 0.8280 - accuracy: 0.6776 - val_loss: 0.5453 - val_accuracy: 0.8532\n",
      "Epoch 27/1000\n",
      "22/31 [====================>.........] - ETA: 0s - loss: 0.8339 - accuracy: 0.6651\n",
      "Epoch 27: saving model to model/keypoint_classifier\\keypoint_classifier.hdf5\n",
      "31/31 [==============================] - 0s 6ms/step - loss: 0.8185 - accuracy: 0.6741 - val_loss: 0.5332 - val_accuracy: 0.8578\n",
      "Epoch 28/1000\n",
      "23/31 [=====================>........] - ETA: 0s - loss: 0.8248 - accuracy: 0.6739\n",
      "Epoch 28: saving model to model/keypoint_classifier\\keypoint_classifier.hdf5\n",
      "31/31 [==============================] - 0s 6ms/step - loss: 0.8273 - accuracy: 0.6748 - val_loss: 0.5320 - val_accuracy: 0.8616\n",
      "Epoch 29/1000\n",
      "23/31 [=====================>........] - ETA: 0s - loss: 0.8412 - accuracy: 0.6712\n",
      "Epoch 29: saving model to model/keypoint_classifier\\keypoint_classifier.hdf5\n",
      "31/31 [==============================] - 0s 11ms/step - loss: 0.8392 - accuracy: 0.6733 - val_loss: 0.5298 - val_accuracy: 0.8685\n",
      "Epoch 30/1000\n",
      "25/31 [=======================>......] - ETA: 0s - loss: 0.8098 - accuracy: 0.6800\n",
      "Epoch 30: saving model to model/keypoint_classifier\\keypoint_classifier.hdf5\n",
      "31/31 [==============================] - 0s 9ms/step - loss: 0.8127 - accuracy: 0.6799 - val_loss: 0.5143 - val_accuracy: 0.8654\n",
      "Epoch 31/1000\n",
      "30/31 [============================>.] - ETA: 0s - loss: 0.8098 - accuracy: 0.6758\n",
      "Epoch 31: saving model to model/keypoint_classifier\\keypoint_classifier.hdf5\n",
      "31/31 [==============================] - 0s 7ms/step - loss: 0.8082 - accuracy: 0.6758 - val_loss: 0.5136 - val_accuracy: 0.8631\n",
      "Epoch 32/1000\n",
      "15/31 [=============>................] - ETA: 0s - loss: 0.8214 - accuracy: 0.6734\n",
      "Epoch 32: saving model to model/keypoint_classifier\\keypoint_classifier.hdf5\n",
      "31/31 [==============================] - 0s 6ms/step - loss: 0.8230 - accuracy: 0.6705 - val_loss: 0.5139 - val_accuracy: 0.8670\n",
      "Epoch 33/1000\n",
      "21/31 [===================>..........] - ETA: 0s - loss: 0.8230 - accuracy: 0.6737\n",
      "Epoch 33: saving model to model/keypoint_classifier\\keypoint_classifier.hdf5\n",
      "31/31 [==============================] - 0s 5ms/step - loss: 0.8090 - accuracy: 0.6781 - val_loss: 0.5118 - val_accuracy: 0.8647\n",
      "Epoch 34/1000\n",
      "21/31 [===================>..........] - ETA: 0s - loss: 0.7861 - accuracy: 0.6879\n",
      "Epoch 34: saving model to model/keypoint_classifier\\keypoint_classifier.hdf5\n",
      "31/31 [==============================] - 0s 6ms/step - loss: 0.7936 - accuracy: 0.6868 - val_loss: 0.5004 - val_accuracy: 0.8639\n",
      "Epoch 35/1000\n",
      "27/31 [=========================>....] - ETA: 0s - loss: 0.7772 - accuracy: 0.6953\n",
      "Epoch 35: saving model to model/keypoint_classifier\\keypoint_classifier.hdf5\n",
      "31/31 [==============================] - 0s 9ms/step - loss: 0.7826 - accuracy: 0.6906 - val_loss: 0.4883 - val_accuracy: 0.8761\n",
      "Epoch 36/1000\n",
      "23/31 [=====================>........] - ETA: 0s - loss: 0.7813 - accuracy: 0.7018\n",
      "Epoch 36: saving model to model/keypoint_classifier\\keypoint_classifier.hdf5\n",
      "31/31 [==============================] - 0s 5ms/step - loss: 0.7827 - accuracy: 0.6963 - val_loss: 0.4827 - val_accuracy: 0.8647\n",
      "Epoch 37/1000\n",
      "21/31 [===================>..........] - ETA: 0s - loss: 0.7817 - accuracy: 0.6804\n",
      "Epoch 37: saving model to model/keypoint_classifier\\keypoint_classifier.hdf5\n",
      "31/31 [==============================] - 0s 5ms/step - loss: 0.7788 - accuracy: 0.6878 - val_loss: 0.4859 - val_accuracy: 0.8777\n",
      "Epoch 38/1000\n",
      "23/31 [=====================>........] - ETA: 0s - loss: 0.7748 - accuracy: 0.6892\n",
      "Epoch 38: saving model to model/keypoint_classifier\\keypoint_classifier.hdf5\n",
      "31/31 [==============================] - 0s 5ms/step - loss: 0.7788 - accuracy: 0.6899 - val_loss: 0.4893 - val_accuracy: 0.8662\n",
      "Epoch 39/1000\n",
      "23/31 [=====================>........] - ETA: 0s - loss: 0.7622 - accuracy: 0.6960\n",
      "Epoch 39: saving model to model/keypoint_classifier\\keypoint_classifier.hdf5\n",
      "31/31 [==============================] - 0s 5ms/step - loss: 0.7680 - accuracy: 0.6929 - val_loss: 0.4757 - val_accuracy: 0.8647\n",
      "Epoch 40/1000\n",
      "30/31 [============================>.] - ETA: 0s - loss: 0.7716 - accuracy: 0.6966\n",
      "Epoch 40: saving model to model/keypoint_classifier\\keypoint_classifier.hdf5\n",
      "31/31 [==============================] - 0s 9ms/step - loss: 0.7722 - accuracy: 0.6965 - val_loss: 0.4785 - val_accuracy: 0.8746\n",
      "Epoch 41/1000\n",
      "22/31 [====================>.........] - ETA: 0s - loss: 0.7634 - accuracy: 0.6953\n",
      "Epoch 41: saving model to model/keypoint_classifier\\keypoint_classifier.hdf5\n",
      "31/31 [==============================] - 0s 6ms/step - loss: 0.7733 - accuracy: 0.6942 - val_loss: 0.4681 - val_accuracy: 0.8739\n",
      "Epoch 42/1000\n",
      "25/31 [=======================>......] - ETA: 0s - loss: 0.7318 - accuracy: 0.7172\n",
      "Epoch 42: saving model to model/keypoint_classifier\\keypoint_classifier.hdf5\n",
      "31/31 [==============================] - 0s 10ms/step - loss: 0.7429 - accuracy: 0.7108 - val_loss: 0.4698 - val_accuracy: 0.8777\n",
      "Epoch 43/1000\n",
      "29/31 [===========================>..] - ETA: 0s - loss: 0.7506 - accuracy: 0.7010\n",
      "Epoch 43: saving model to model/keypoint_classifier\\keypoint_classifier.hdf5\n",
      "31/31 [==============================] - 0s 15ms/step - loss: 0.7540 - accuracy: 0.7024 - val_loss: 0.4674 - val_accuracy: 0.8777\n",
      "Epoch 44/1000\n",
      "23/31 [=====================>........] - ETA: 0s - loss: 0.7779 - accuracy: 0.6997\n",
      "Epoch 44: saving model to model/keypoint_classifier\\keypoint_classifier.hdf5\n",
      "31/31 [==============================] - 0s 16ms/step - loss: 0.7671 - accuracy: 0.7047 - val_loss: 0.4730 - val_accuracy: 0.8746\n",
      "Epoch 45/1000\n",
      "20/31 [==================>...........] - ETA: 0s - loss: 0.7782 - accuracy: 0.7023\n",
      "Epoch 45: saving model to model/keypoint_classifier\\keypoint_classifier.hdf5\n",
      "31/31 [==============================] - 0s 8ms/step - loss: 0.7524 - accuracy: 0.7070 - val_loss: 0.4585 - val_accuracy: 0.8815\n",
      "Epoch 46/1000\n",
      "19/31 [=================>............] - ETA: 0s - loss: 0.7426 - accuracy: 0.7031\n",
      "Epoch 46: saving model to model/keypoint_classifier\\keypoint_classifier.hdf5\n",
      "31/31 [==============================] - 0s 6ms/step - loss: 0.7535 - accuracy: 0.7011 - val_loss: 0.4573 - val_accuracy: 0.8761\n",
      "Epoch 47/1000\n",
      "18/31 [================>.............] - ETA: 0s - loss: 0.7332 - accuracy: 0.7101\n",
      "Epoch 47: saving model to model/keypoint_classifier\\keypoint_classifier.hdf5\n",
      "31/31 [==============================] - 0s 6ms/step - loss: 0.7371 - accuracy: 0.7019 - val_loss: 0.4529 - val_accuracy: 0.8861\n",
      "Epoch 48/1000\n",
      "14/31 [============>.................] - ETA: 0s - loss: 0.7282 - accuracy: 0.7204\n",
      "Epoch 48: saving model to model/keypoint_classifier\\keypoint_classifier.hdf5\n",
      "31/31 [==============================] - 0s 7ms/step - loss: 0.7323 - accuracy: 0.7087 - val_loss: 0.4542 - val_accuracy: 0.8662\n",
      "Epoch 49/1000\n",
      "23/31 [=====================>........] - ETA: 0s - loss: 0.7394 - accuracy: 0.7106\n",
      "Epoch 49: saving model to model/keypoint_classifier\\keypoint_classifier.hdf5\n",
      "31/31 [==============================] - 0s 6ms/step - loss: 0.7365 - accuracy: 0.7100 - val_loss: 0.4426 - val_accuracy: 0.8891\n",
      "Epoch 50/1000\n",
      "21/31 [===================>..........] - ETA: 0s - loss: 0.7248 - accuracy: 0.7143\n",
      "Epoch 50: saving model to model/keypoint_classifier\\keypoint_classifier.hdf5\n",
      "31/31 [==============================] - 0s 6ms/step - loss: 0.7255 - accuracy: 0.7116 - val_loss: 0.4432 - val_accuracy: 0.8899\n",
      "Epoch 51/1000\n",
      "24/31 [======================>.......] - ETA: 0s - loss: 0.7459 - accuracy: 0.7083\n",
      "Epoch 51: saving model to model/keypoint_classifier\\keypoint_classifier.hdf5\n",
      "31/31 [==============================] - 0s 10ms/step - loss: 0.7427 - accuracy: 0.7062 - val_loss: 0.4499 - val_accuracy: 0.8746\n",
      "Epoch 52/1000\n",
      "23/31 [=====================>........] - ETA: 0s - loss: 0.7344 - accuracy: 0.7154\n",
      "Epoch 52: saving model to model/keypoint_classifier\\keypoint_classifier.hdf5\n",
      "31/31 [==============================] - 0s 6ms/step - loss: 0.7424 - accuracy: 0.7118 - val_loss: 0.4442 - val_accuracy: 0.8853\n",
      "Epoch 53/1000\n",
      "19/31 [=================>............] - ETA: 0s - loss: 0.7387 - accuracy: 0.7019\n",
      "Epoch 53: saving model to model/keypoint_classifier\\keypoint_classifier.hdf5\n",
      "31/31 [==============================] - 0s 6ms/step - loss: 0.7365 - accuracy: 0.7082 - val_loss: 0.4421 - val_accuracy: 0.8907\n",
      "Epoch 54/1000\n",
      "21/31 [===================>..........] - ETA: 0s - loss: 0.7353 - accuracy: 0.7094\n",
      "Epoch 54: saving model to model/keypoint_classifier\\keypoint_classifier.hdf5\n",
      "31/31 [==============================] - 0s 5ms/step - loss: 0.7335 - accuracy: 0.7146 - val_loss: 0.4480 - val_accuracy: 0.8662\n",
      "Epoch 55/1000\n",
      "22/31 [====================>.........] - ETA: 0s - loss: 0.7327 - accuracy: 0.7070\n",
      "Epoch 55: saving model to model/keypoint_classifier\\keypoint_classifier.hdf5\n",
      "31/31 [==============================] - 0s 6ms/step - loss: 0.7232 - accuracy: 0.7169 - val_loss: 0.4453 - val_accuracy: 0.8777\n",
      "Epoch 56/1000\n",
      "19/31 [=================>............] - ETA: 0s - loss: 0.7209 - accuracy: 0.7105\n",
      "Epoch 56: saving model to model/keypoint_classifier\\keypoint_classifier.hdf5\n",
      "31/31 [==============================] - 0s 6ms/step - loss: 0.7090 - accuracy: 0.7197 - val_loss: 0.4309 - val_accuracy: 0.8953\n",
      "Epoch 57/1000\n",
      "18/31 [================>.............] - ETA: 0s - loss: 0.7083 - accuracy: 0.7235\n",
      "Epoch 57: saving model to model/keypoint_classifier\\keypoint_classifier.hdf5\n",
      "31/31 [==============================] - 0s 10ms/step - loss: 0.6955 - accuracy: 0.7258 - val_loss: 0.4283 - val_accuracy: 0.8968\n",
      "Epoch 58/1000\n",
      "22/31 [====================>.........] - ETA: 0s - loss: 0.7169 - accuracy: 0.7116\n",
      "Epoch 58: saving model to model/keypoint_classifier\\keypoint_classifier.hdf5\n",
      "31/31 [==============================] - 0s 5ms/step - loss: 0.7125 - accuracy: 0.7144 - val_loss: 0.4283 - val_accuracy: 0.8998\n",
      "Epoch 59/1000\n",
      "23/31 [=====================>........] - ETA: 0s - loss: 0.7112 - accuracy: 0.7221\n",
      "Epoch 59: saving model to model/keypoint_classifier\\keypoint_classifier.hdf5\n",
      "31/31 [==============================] - 0s 6ms/step - loss: 0.7129 - accuracy: 0.7207 - val_loss: 0.4224 - val_accuracy: 0.8914\n",
      "Epoch 60/1000\n",
      "22/31 [====================>.........] - ETA: 0s - loss: 0.7045 - accuracy: 0.7333\n",
      "Epoch 60: saving model to model/keypoint_classifier\\keypoint_classifier.hdf5\n",
      "31/31 [==============================] - 0s 5ms/step - loss: 0.7049 - accuracy: 0.7322 - val_loss: 0.4200 - val_accuracy: 0.8853\n",
      "Epoch 61/1000\n",
      "21/31 [===================>..........] - ETA: 0s - loss: 0.6889 - accuracy: 0.7269\n",
      "Epoch 61: saving model to model/keypoint_classifier\\keypoint_classifier.hdf5\n",
      "31/31 [==============================] - 0s 6ms/step - loss: 0.7032 - accuracy: 0.7243 - val_loss: 0.4205 - val_accuracy: 0.8861\n",
      "Epoch 62/1000\n",
      "20/31 [==================>...........] - ETA: 0s - loss: 0.7139 - accuracy: 0.7051\n",
      "Epoch 62: saving model to model/keypoint_classifier\\keypoint_classifier.hdf5\n",
      "31/31 [==============================] - 0s 6ms/step - loss: 0.7120 - accuracy: 0.7110 - val_loss: 0.4280 - val_accuracy: 0.8884\n",
      "Epoch 63/1000\n",
      "20/31 [==================>...........] - ETA: 0s - loss: 0.7120 - accuracy: 0.7195\n",
      "Epoch 63: saving model to model/keypoint_classifier\\keypoint_classifier.hdf5\n",
      "31/31 [==============================] - 0s 6ms/step - loss: 0.7017 - accuracy: 0.7233 - val_loss: 0.4314 - val_accuracy: 0.8853\n",
      "Epoch 64/1000\n",
      "24/31 [======================>.......] - ETA: 0s - loss: 0.7012 - accuracy: 0.7354\n",
      "Epoch 64: saving model to model/keypoint_classifier\\keypoint_classifier.hdf5\n",
      "31/31 [==============================] - 0s 10ms/step - loss: 0.6958 - accuracy: 0.7317 - val_loss: 0.4173 - val_accuracy: 0.8930\n",
      "Epoch 65/1000\n",
      "23/31 [=====================>........] - ETA: 0s - loss: 0.6889 - accuracy: 0.7242\n",
      "Epoch 65: saving model to model/keypoint_classifier\\keypoint_classifier.hdf5\n",
      "31/31 [==============================] - 0s 6ms/step - loss: 0.6900 - accuracy: 0.7289 - val_loss: 0.4293 - val_accuracy: 0.8754\n",
      "Epoch 66/1000\n",
      "23/31 [=====================>........] - ETA: 0s - loss: 0.6890 - accuracy: 0.7310\n",
      "Epoch 66: saving model to model/keypoint_classifier\\keypoint_classifier.hdf5\n",
      "31/31 [==============================] - 0s 5ms/step - loss: 0.6939 - accuracy: 0.7281 - val_loss: 0.4324 - val_accuracy: 0.8861\n",
      "Epoch 67/1000\n",
      "16/31 [==============>...............] - ETA: 0s - loss: 0.7028 - accuracy: 0.7310\n",
      "Epoch 67: saving model to model/keypoint_classifier\\keypoint_classifier.hdf5\n",
      "31/31 [==============================] - 0s 6ms/step - loss: 0.7019 - accuracy: 0.7317 - val_loss: 0.4175 - val_accuracy: 0.8983\n",
      "Epoch 68/1000\n",
      "26/31 [========================>.....] - ETA: 0s - loss: 0.7053 - accuracy: 0.7275\n",
      "Epoch 68: saving model to model/keypoint_classifier\\keypoint_classifier.hdf5\n",
      "31/31 [==============================] - 0s 9ms/step - loss: 0.6974 - accuracy: 0.7304 - val_loss: 0.4118 - val_accuracy: 0.9090\n",
      "Epoch 69/1000\n",
      "24/31 [======================>.......] - ETA: 0s - loss: 0.6925 - accuracy: 0.7282\n",
      "Epoch 69: saving model to model/keypoint_classifier\\keypoint_classifier.hdf5\n",
      "31/31 [==============================] - 0s 11ms/step - loss: 0.7025 - accuracy: 0.7243 - val_loss: 0.4234 - val_accuracy: 0.8937\n",
      "Epoch 70/1000\n",
      "30/31 [============================>.] - ETA: 0s - loss: 0.6999 - accuracy: 0.7292\n",
      "Epoch 70: saving model to model/keypoint_classifier\\keypoint_classifier.hdf5\n",
      "31/31 [==============================] - 0s 15ms/step - loss: 0.6991 - accuracy: 0.7284 - val_loss: 0.4186 - val_accuracy: 0.8991\n",
      "Epoch 71/1000\n",
      "25/31 [=======================>......] - ETA: 0s - loss: 0.6729 - accuracy: 0.7322\n",
      "Epoch 71: saving model to model/keypoint_classifier\\keypoint_classifier.hdf5\n",
      "31/31 [==============================] - 0s 10ms/step - loss: 0.6783 - accuracy: 0.7284 - val_loss: 0.4136 - val_accuracy: 0.8953\n",
      "Epoch 72/1000\n",
      "21/31 [===================>..........] - ETA: 0s - loss: 0.6881 - accuracy: 0.7321\n",
      "Epoch 72: saving model to model/keypoint_classifier\\keypoint_classifier.hdf5\n",
      "31/31 [==============================] - 0s 6ms/step - loss: 0.6843 - accuracy: 0.7335 - val_loss: 0.4098 - val_accuracy: 0.9014\n",
      "Epoch 73/1000\n",
      "22/31 [====================>.........] - ETA: 0s - loss: 0.6810 - accuracy: 0.7369\n",
      "Epoch 73: saving model to model/keypoint_classifier\\keypoint_classifier.hdf5\n",
      "31/31 [==============================] - 0s 6ms/step - loss: 0.6819 - accuracy: 0.7358 - val_loss: 0.4234 - val_accuracy: 0.8945\n",
      "Epoch 74/1000\n",
      "23/31 [=====================>........] - ETA: 0s - loss: 0.7032 - accuracy: 0.7272\n",
      "Epoch 74: saving model to model/keypoint_classifier\\keypoint_classifier.hdf5\n",
      "31/31 [==============================] - 0s 5ms/step - loss: 0.7081 - accuracy: 0.7289 - val_loss: 0.4244 - val_accuracy: 0.8991\n",
      "Epoch 75/1000\n",
      "29/31 [===========================>..] - ETA: 0s - loss: 0.6968 - accuracy: 0.7276\n",
      "Epoch 75: saving model to model/keypoint_classifier\\keypoint_classifier.hdf5\n",
      "31/31 [==============================] - 0s 9ms/step - loss: 0.6975 - accuracy: 0.7266 - val_loss: 0.4232 - val_accuracy: 0.8968\n",
      "Epoch 76/1000\n",
      "23/31 [=====================>........] - ETA: 0s - loss: 0.6948 - accuracy: 0.7317\n",
      "Epoch 76: saving model to model/keypoint_classifier\\keypoint_classifier.hdf5\n",
      "31/31 [==============================] - 0s 5ms/step - loss: 0.6903 - accuracy: 0.7353 - val_loss: 0.4212 - val_accuracy: 0.8960\n",
      "Epoch 77/1000\n",
      "20/31 [==================>...........] - ETA: 0s - loss: 0.6716 - accuracy: 0.7324\n",
      "Epoch 77: saving model to model/keypoint_classifier\\keypoint_classifier.hdf5\n",
      "31/31 [==============================] - 0s 6ms/step - loss: 0.6633 - accuracy: 0.7386 - val_loss: 0.4023 - val_accuracy: 0.9029\n",
      "Epoch 78/1000\n",
      "30/31 [============================>.] - ETA: 0s - loss: 0.6705 - accuracy: 0.7419\n",
      "Epoch 78: saving model to model/keypoint_classifier\\keypoint_classifier.hdf5\n",
      "31/31 [==============================] - 0s 8ms/step - loss: 0.6731 - accuracy: 0.7401 - val_loss: 0.4192 - val_accuracy: 0.8884\n",
      "Epoch 79/1000\n",
      "28/31 [==========================>...] - ETA: 0s - loss: 0.6981 - accuracy: 0.7243\n",
      "Epoch 79: saving model to model/keypoint_classifier\\keypoint_classifier.hdf5\n",
      "31/31 [==============================] - 0s 11ms/step - loss: 0.6945 - accuracy: 0.7240 - val_loss: 0.4084 - val_accuracy: 0.8930\n",
      "Epoch 80/1000\n",
      "29/31 [===========================>..] - ETA: 0s - loss: 0.6620 - accuracy: 0.7365\n",
      "Epoch 80: saving model to model/keypoint_classifier\\keypoint_classifier.hdf5\n",
      "31/31 [==============================] - 0s 7ms/step - loss: 0.6629 - accuracy: 0.7343 - val_loss: 0.4061 - val_accuracy: 0.8976\n",
      "Epoch 81/1000\n",
      "23/31 [=====================>........] - ETA: 0s - loss: 0.6807 - accuracy: 0.7368\n",
      "Epoch 81: saving model to model/keypoint_classifier\\keypoint_classifier.hdf5\n",
      "31/31 [==============================] - 0s 6ms/step - loss: 0.6777 - accuracy: 0.7404 - val_loss: 0.4160 - val_accuracy: 0.8853\n",
      "Epoch 82/1000\n",
      "22/31 [====================>.........] - ETA: 0s - loss: 0.6643 - accuracy: 0.7521\n",
      "Epoch 82: saving model to model/keypoint_classifier\\keypoint_classifier.hdf5\n",
      "31/31 [==============================] - 0s 5ms/step - loss: 0.6568 - accuracy: 0.7506 - val_loss: 0.4098 - val_accuracy: 0.8922\n",
      "Epoch 83/1000\n",
      "21/31 [===================>..........] - ETA: 0s - loss: 0.6670 - accuracy: 0.7437\n",
      "Epoch 83: saving model to model/keypoint_classifier\\keypoint_classifier.hdf5\n",
      "31/31 [==============================] - 0s 6ms/step - loss: 0.6715 - accuracy: 0.7381 - val_loss: 0.4140 - val_accuracy: 0.9006\n",
      "Epoch 84/1000\n",
      "17/31 [===============>..............] - ETA: 0s - loss: 0.6875 - accuracy: 0.7353\n",
      "Epoch 84: saving model to model/keypoint_classifier\\keypoint_classifier.hdf5\n",
      "31/31 [==============================] - 0s 6ms/step - loss: 0.6706 - accuracy: 0.7419 - val_loss: 0.4064 - val_accuracy: 0.8853\n",
      "Epoch 85/1000\n",
      "22/31 [====================>.........] - ETA: 0s - loss: 0.6441 - accuracy: 0.7479\n",
      "Epoch 85: saving model to model/keypoint_classifier\\keypoint_classifier.hdf5\n",
      "31/31 [==============================] - 0s 6ms/step - loss: 0.6583 - accuracy: 0.7508 - val_loss: 0.4005 - val_accuracy: 0.8983\n",
      "Epoch 86/1000\n",
      "22/31 [====================>.........] - ETA: 0s - loss: 0.6472 - accuracy: 0.7475\n",
      "Epoch 86: saving model to model/keypoint_classifier\\keypoint_classifier.hdf5\n",
      "31/31 [==============================] - 0s 9ms/step - loss: 0.6534 - accuracy: 0.7447 - val_loss: 0.4015 - val_accuracy: 0.8937\n",
      "Epoch 87/1000\n",
      "22/31 [====================>.........] - ETA: 0s - loss: 0.6741 - accuracy: 0.7461\n",
      "Epoch 87: saving model to model/keypoint_classifier\\keypoint_classifier.hdf5\n",
      "31/31 [==============================] - 0s 5ms/step - loss: 0.6761 - accuracy: 0.7409 - val_loss: 0.4044 - val_accuracy: 0.8945\n",
      "Epoch 88/1000\n",
      "20/31 [==================>...........] - ETA: 0s - loss: 0.6813 - accuracy: 0.7266\n",
      "Epoch 88: saving model to model/keypoint_classifier\\keypoint_classifier.hdf5\n",
      "31/31 [==============================] - 0s 6ms/step - loss: 0.6744 - accuracy: 0.7294 - val_loss: 0.3901 - val_accuracy: 0.9090\n",
      "Epoch 89/1000\n",
      "23/31 [=====================>........] - ETA: 0s - loss: 0.6699 - accuracy: 0.7313\n",
      "Epoch 89: saving model to model/keypoint_classifier\\keypoint_classifier.hdf5\n",
      "31/31 [==============================] - 0s 6ms/step - loss: 0.6562 - accuracy: 0.7381 - val_loss: 0.3963 - val_accuracy: 0.9113\n",
      "Epoch 90/1000\n",
      "27/31 [=========================>....] - ETA: 0s - loss: 0.6830 - accuracy: 0.7390\n",
      "Epoch 90: saving model to model/keypoint_classifier\\keypoint_classifier.hdf5\n",
      "31/31 [==============================] - 0s 8ms/step - loss: 0.6842 - accuracy: 0.7396 - val_loss: 0.3969 - val_accuracy: 0.9098\n",
      "Epoch 91/1000\n",
      "23/31 [=====================>........] - ETA: 0s - loss: 0.6620 - accuracy: 0.7344\n",
      "Epoch 91: saving model to model/keypoint_classifier\\keypoint_classifier.hdf5\n",
      "31/31 [==============================] - 0s 8ms/step - loss: 0.6683 - accuracy: 0.7343 - val_loss: 0.4013 - val_accuracy: 0.9090\n",
      "Epoch 92/1000\n",
      "28/31 [==========================>...] - ETA: 0s - loss: 0.6698 - accuracy: 0.7441\n",
      "Epoch 92: saving model to model/keypoint_classifier\\keypoint_classifier.hdf5\n",
      "31/31 [==============================] - 0s 9ms/step - loss: 0.6752 - accuracy: 0.7404 - val_loss: 0.4130 - val_accuracy: 0.8945\n",
      "Epoch 93/1000\n",
      "21/31 [===================>..........] - ETA: 0s - loss: 0.6456 - accuracy: 0.7448\n",
      "Epoch 93: saving model to model/keypoint_classifier\\keypoint_classifier.hdf5\n",
      "31/31 [==============================] - 0s 6ms/step - loss: 0.6480 - accuracy: 0.7445 - val_loss: 0.3904 - val_accuracy: 0.9151\n",
      "Epoch 94/1000\n",
      "21/31 [===================>..........] - ETA: 0s - loss: 0.6459 - accuracy: 0.7474\n",
      "Epoch 94: saving model to model/keypoint_classifier\\keypoint_classifier.hdf5\n",
      "31/31 [==============================] - 0s 6ms/step - loss: 0.6618 - accuracy: 0.7363 - val_loss: 0.4017 - val_accuracy: 0.8991\n",
      "Epoch 95/1000\n",
      "20/31 [==================>...........] - ETA: 0s - loss: 0.6725 - accuracy: 0.7363\n",
      "Epoch 95: saving model to model/keypoint_classifier\\keypoint_classifier.hdf5\n",
      "31/31 [==============================] - 0s 6ms/step - loss: 0.6648 - accuracy: 0.7391 - val_loss: 0.4050 - val_accuracy: 0.8976\n",
      "Epoch 96/1000\n",
      "30/31 [============================>.] - ETA: 0s - loss: 0.6542 - accuracy: 0.7464\n",
      "Epoch 96: saving model to model/keypoint_classifier\\keypoint_classifier.hdf5\n",
      "31/31 [==============================] - 0s 10ms/step - loss: 0.6534 - accuracy: 0.7462 - val_loss: 0.3925 - val_accuracy: 0.9014\n",
      "Epoch 97/1000\n",
      "20/31 [==================>...........] - ETA: 0s - loss: 0.6782 - accuracy: 0.7305\n",
      "Epoch 97: saving model to model/keypoint_classifier\\keypoint_classifier.hdf5\n",
      "31/31 [==============================] - 0s 6ms/step - loss: 0.6692 - accuracy: 0.7360 - val_loss: 0.3926 - val_accuracy: 0.9075\n",
      "Epoch 98/1000\n",
      "18/31 [================>.............] - ETA: 0s - loss: 0.6726 - accuracy: 0.7374\n",
      "Epoch 98: saving model to model/keypoint_classifier\\keypoint_classifier.hdf5\n",
      "31/31 [==============================] - 0s 6ms/step - loss: 0.6621 - accuracy: 0.7416 - val_loss: 0.3988 - val_accuracy: 0.8968\n",
      "Epoch 99/1000\n",
      "22/31 [====================>.........] - ETA: 0s - loss: 0.6731 - accuracy: 0.7464\n",
      "Epoch 99: saving model to model/keypoint_classifier\\keypoint_classifier.hdf5\n",
      "31/31 [==============================] - 0s 7ms/step - loss: 0.6781 - accuracy: 0.7396 - val_loss: 0.3992 - val_accuracy: 0.8907\n",
      "Epoch 100/1000\n",
      "30/31 [============================>.] - ETA: 0s - loss: 0.6718 - accuracy: 0.7339\n",
      "Epoch 100: saving model to model/keypoint_classifier\\keypoint_classifier.hdf5\n",
      "31/31 [==============================] - 0s 8ms/step - loss: 0.6714 - accuracy: 0.7335 - val_loss: 0.4055 - val_accuracy: 0.8907\n",
      "Epoch 101/1000\n",
      "30/31 [============================>.] - ETA: 0s - loss: 0.6494 - accuracy: 0.7492\n",
      "Epoch 101: saving model to model/keypoint_classifier\\keypoint_classifier.hdf5\n",
      "31/31 [==============================] - 0s 11ms/step - loss: 0.6480 - accuracy: 0.7501 - val_loss: 0.4117 - val_accuracy: 0.8853\n",
      "Epoch 102/1000\n",
      "21/31 [===================>..........] - ETA: 0s - loss: 0.6436 - accuracy: 0.7452\n",
      "Epoch 102: saving model to model/keypoint_classifier\\keypoint_classifier.hdf5\n",
      "31/31 [==============================] - 0s 6ms/step - loss: 0.6428 - accuracy: 0.7437 - val_loss: 0.3965 - val_accuracy: 0.8960\n",
      "Epoch 103/1000\n",
      "21/31 [===================>..........] - ETA: 0s - loss: 0.6650 - accuracy: 0.7426\n",
      "Epoch 103: saving model to model/keypoint_classifier\\keypoint_classifier.hdf5\n",
      "31/31 [==============================] - 0s 5ms/step - loss: 0.6676 - accuracy: 0.7386 - val_loss: 0.4017 - val_accuracy: 0.8998\n",
      "Epoch 104/1000\n",
      "21/31 [===================>..........] - ETA: 0s - loss: 0.6492 - accuracy: 0.7429\n",
      "Epoch 104: saving model to model/keypoint_classifier\\keypoint_classifier.hdf5\n",
      "31/31 [==============================] - 0s 5ms/step - loss: 0.6490 - accuracy: 0.7465 - val_loss: 0.4048 - val_accuracy: 0.8853\n",
      "Epoch 105/1000\n",
      "19/31 [=================>............] - ETA: 0s - loss: 0.6375 - accuracy: 0.7484\n",
      "Epoch 105: saving model to model/keypoint_classifier\\keypoint_classifier.hdf5\n",
      "31/31 [==============================] - 0s 6ms/step - loss: 0.6423 - accuracy: 0.7475 - val_loss: 0.4096 - val_accuracy: 0.8761\n",
      "Epoch 106/1000\n",
      "31/31 [==============================] - ETA: 0s - loss: 0.6586 - accuracy: 0.7445\n",
      "Epoch 106: saving model to model/keypoint_classifier\\keypoint_classifier.hdf5\n",
      "31/31 [==============================] - 0s 10ms/step - loss: 0.6586 - accuracy: 0.7445 - val_loss: 0.3946 - val_accuracy: 0.8991\n",
      "Epoch 107/1000\n",
      "17/31 [===============>..............] - ETA: 0s - loss: 0.6558 - accuracy: 0.7431\n",
      "Epoch 107: saving model to model/keypoint_classifier\\keypoint_classifier.hdf5\n",
      "31/31 [==============================] - 0s 6ms/step - loss: 0.6333 - accuracy: 0.7539 - val_loss: 0.4107 - val_accuracy: 0.8677\n",
      "Epoch 108/1000\n",
      "19/31 [=================>............] - ETA: 0s - loss: 0.6348 - accuracy: 0.7508\n",
      "Epoch 108: saving model to model/keypoint_classifier\\keypoint_classifier.hdf5\n",
      "31/31 [==============================] - 0s 6ms/step - loss: 0.6469 - accuracy: 0.7445 - val_loss: 0.3971 - val_accuracy: 0.8876\n",
      "Epoch 108: early stopping\n"
     ]
    },
    {
     "data": {
      "text/plain": [
       "<keras.src.callbacks.History at 0x2cd00db9e90>"
      ]
     },
     "execution_count": 55,
     "metadata": {},
     "output_type": "execute_result"
    }
   ],
   "source": [
    "model.fit(\n",
    "    X_train,\n",
    "    y_train,\n",
    "    epochs=1000,\n",
    "    batch_size=128,\n",
    "    validation_data=(X_test, y_test),\n",
    "    callbacks=[cp_callback, es_callback]\n",
    ")"
   ]
  },
  {
   "cell_type": "code",
   "execution_count": 56,
   "metadata": {},
   "outputs": [
    {
     "name": "stdout",
     "output_type": "stream",
     "text": [
      "11/11 [==============================] - 0s 4ms/step - loss: 0.3971 - accuracy: 0.8876\n"
     ]
    }
   ],
   "source": [
    "# モデル評価\n",
    "val_loss, val_acc = model.evaluate(X_test, y_test, batch_size=128)"
   ]
  },
  {
   "cell_type": "code",
   "execution_count": 57,
   "metadata": {},
   "outputs": [],
   "source": [
    "# 保存したモデルのロード\n",
    "model = tf.keras.models.load_model(model_save_path)"
   ]
  },
  {
   "cell_type": "code",
   "execution_count": 58,
   "metadata": {},
   "outputs": [
    {
     "name": "stdout",
     "output_type": "stream",
     "text": [
      "1/1 [==============================] - 0s 89ms/step\n",
      "[5.8985353e-02 2.4260260e-01 6.8825960e-01 1.7115231e-05 1.0135312e-02]\n",
      "2\n"
     ]
    }
   ],
   "source": [
    "# 推論テスト\n",
    "predict_result = model.predict(np.array([X_test[0]]))\n",
    "print(np.squeeze(predict_result))\n",
    "print(np.argmax(np.squeeze(predict_result)))"
   ]
  },
  {
   "cell_type": "markdown",
   "metadata": {},
   "source": [
    "# 混同行列"
   ]
  },
  {
   "cell_type": "code",
   "execution_count": 59,
   "metadata": {},
   "outputs": [
    {
     "name": "stdout",
     "output_type": "stream",
     "text": [
      "41/41 [==============================] - 0s 2ms/step\n"
     ]
    },
    {
     "data": {
      "image/png": "[encoded data removed]",
      "text/plain": [
       "<Figure size 700x600 with 2 Axes>"
      ]
     },
     "metadata": {},
     "output_type": "display_data"
    },
    {
     "name": "stdout",
     "output_type": "stream",
     "text": [
      "Classification Report\n",
      "              precision    recall  f1-score   support\n",
      "\n",
      "           0       0.92      0.90      0.91       406\n",
      "           1       1.00      0.80      0.89       378\n",
      "           2       0.84      0.99      0.91       338\n",
      "           3       0.90      1.00      0.95        83\n",
      "           4       0.66      0.75      0.70       103\n",
      "\n",
      "    accuracy                           0.89      1308\n",
      "   macro avg       0.86      0.89      0.87      1308\n",
      "weighted avg       0.90      0.89      0.89      1308\n",
      "\n"
     ]
    }
   ],
   "source": [
    "import pandas as pd\n",
    "import seaborn as sns\n",
    "import matplotlib.pyplot as plt\n",
    "from sklearn.metrics import confusion_matrix, classification_report\n",
    "\n",
    "def print_confusion_matrix(y_true, y_pred, report=True):\n",
    "    labels = sorted(list(set(y_true)))\n",
    "    cmx_data = confusion_matrix(y_true, y_pred, labels=labels)\n",
    "    \n",
    "    df_cmx = pd.DataFrame(cmx_data, index=labels, columns=labels)\n",
    " \n",
    "    fig, ax = plt.subplots(figsize=(7, 6))\n",
    "    sns.heatmap(df_cmx, annot=True, fmt='g' ,square=False)\n",
    "    ax.set_ylim(len(set(y_true)), 0)\n",
    "    plt.show()\n",
    "    \n",
    "    if report:\n",
    "        print('Classification Report')\n",
    "        print(classification_report(y_test, y_pred))\n",
    "\n",
    "Y_pred = model.predict(X_test)\n",
    "y_pred = np.argmax(Y_pred, axis=1)\n",
    "\n",
    "print_confusion_matrix(y_test, y_pred)"
   ]
  },
  {
   "cell_type": "markdown",
   "metadata": {},
   "source": [
    "# Tensorflow-Lite用のモデルへ変換"
   ]
  },
  {
   "cell_type": "code",
   "execution_count": 60,
   "metadata": {},
   "outputs": [
    {
     "name": "stderr",
     "output_type": "stream",
     "text": [
      "C:\\Users\\chino\\AppData\\Local\\Packages\\PythonSoftwareFoundation.Python.3.11_qbz5n2kfra8p0\\LocalCache\\local-packages\\Python311\\site-packages\\keras\\src\\engine\\training.py:3103: UserWarning: You are saving your model as an HDF5 file via `model.save()`. This file format is considered legacy. We recommend using instead the native Keras format, e.g. `model.save('my_model.keras')`.\n",
      "  saving_api.save_model(\n"
     ]
    }
   ],
   "source": [
    "# 推論専用のモデルとして保存\n",
    "model.save(model_save_path, include_optimizer=False)"
   ]
  },
  {
   "cell_type": "code",
   "execution_count": 61,
   "metadata": {},
   "outputs": [
    {
     "name": "stdout",
     "output_type": "stream",
     "text": [
      "INFO:tensorflow:Assets written to: C:\\Users\\chino\\AppData\\Local\\Temp\\tmpqkpskt_g\\assets\n"
     ]
    },
    {
     "name": "stderr",
     "output_type": "stream",
     "text": [
      "INFO:tensorflow:Assets written to: C:\\Users\\chino\\AppData\\Local\\Temp\\tmpqkpskt_g\\assets\n"
     ]
    },
    {
     "data": {
      "text/plain": [
       "6616"
      ]
     },
     "execution_count": 61,
     "metadata": {},
     "output_type": "execute_result"
    }
   ],
   "source": [
    "# モデルを変換(量子化)\n",
    "tflite_save_path = 'model/keypoint_classifier/keypoint_classifier.tflite'\n",
    "\n",
    "converter = tf.lite.TFLiteConverter.from_keras_model(model)\n",
    "converter.optimizations = [tf.lite.Optimize.DEFAULT]\n",
    "tflite_quantized_model = converter.convert()\n",
    "\n",
    "open(tflite_save_path, 'wb').write(tflite_quantized_model)"
   ]
  },
  {
   "cell_type": "markdown",
   "metadata": {},
   "source": [
    "# 推論テスト"
   ]
  },
  {
   "cell_type": "code",
   "execution_count": 62,
   "metadata": {},
   "outputs": [],
   "source": [
    "interpreter = tf.lite.Interpreter(model_path=tflite_save_path)\n",
    "interpreter.allocate_tensors()"
   ]
  },
  {
   "cell_type": "code",
   "execution_count": 63,
   "metadata": {},
   "outputs": [],
   "source": [
    "# 入出力テンソルを取得\n",
    "input_details = interpreter.get_input_details()\n",
    "output_details = interpreter.get_output_details()"
   ]
  },
  {
   "cell_type": "code",
   "execution_count": 64,
   "metadata": {},
   "outputs": [],
   "source": [
    "interpreter.set_tensor(input_details[0]['index'], np.array([X_test[0]]))"
   ]
  },
  {
   "cell_type": "code",
   "execution_count": 65,
   "metadata": {
    "scrolled": true
   },
   "outputs": [
    {
     "name": "stdout",
     "output_type": "stream",
     "text": [
      "CPU times: total: 0 ns\n",
      "Wall time: 0 ns\n"
     ]
    }
   ],
   "source": [
    "%%time\n",
    "# 推論実施\n",
    "interpreter.invoke()\n",
    "tflite_results = interpreter.get_tensor(output_details[0]['index'])"
   ]
  },
  {
   "cell_type": "code",
   "execution_count": 66,
   "metadata": {},
   "outputs": [
    {
     "name": "stdout",
     "output_type": "stream",
     "text": [
      "[5.89853525e-02 2.42602766e-01 6.88259423e-01 1.71152260e-05\n",
      " 1.01353135e-02]\n",
      "2\n"
     ]
    }
   ],
   "source": [
    "print(np.squeeze(tflite_results))\n",
    "print(np.argmax(np.squeeze(tflite_results)))"
   ]
  }
 ],
 "metadata": {
  "kernelspec": {
   "display_name": "Python 3",
   "language": "python",
   "name": "python3"
  },
  "language_info": {
   "codemirror_mode": {
    "name": "ipython",
    "version": 3
   },
   "file_extension": ".py",
   "mimetype": "text/x-python",
   "name": "python",
   "nbconvert_exporter": "python",
   "pygments_lexer": "ipython3",
   "version": "3.11.9"
  }
 },
 "nbformat": 4,
 "nbformat_minor": 4
}
